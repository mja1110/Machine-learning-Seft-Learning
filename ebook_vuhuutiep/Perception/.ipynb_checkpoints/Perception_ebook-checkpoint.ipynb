{
 "cells": [
  {
   "cell_type": "code",
   "execution_count": 61,
   "metadata": {},
   "outputs": [],
   "source": [
    "from __future__ import print_function \n",
    "import numpy as np \n",
    "import matplotlib.pyplot as plt\n",
    "np.random.seed(2)"
   ]
  },
  {
   "cell_type": "code",
   "execution_count": 62,
   "metadata": {},
   "outputs": [
    {
     "name": "stdout",
     "output_type": "stream",
     "text": [
      "[[-0.77903943  0.19579728]\n",
      " [-0.29867766  1.43487375]\n",
      " [ 0.08493823  0.70849736]\n",
      " [-0.97298583 -0.52989559]\n",
      " [-0.26776361  0.32571583]\n",
      " [-1.78828032  0.23682627]\n",
      " [-0.77079397 -0.27074543]\n",
      " [-1.1362238  -0.40283452]\n",
      " [-1.25317301  0.27230351]\n",
      " [-0.62808263  0.37595358]]\n",
      "X : [[-0.77903943  0.19579728]\n",
      " [-0.29867766  1.43487375]\n",
      " [ 0.08493823  0.70849736]\n",
      " [-0.97298583 -0.52989559]\n",
      " [-0.26776361  0.32571583]\n",
      " [-1.78828032  0.23682627]\n",
      " [-0.77079397 -0.27074543]\n",
      " [-1.1362238  -0.40283452]\n",
      " [-1.25317301  0.27230351]\n",
      " [-0.62808263  0.37595358]\n",
      " [ 1.47403369  0.4040742 ]\n",
      " [ 1.09281249 -0.34938294]\n",
      " [ 1.22222334  0.11659863]\n",
      " [ 1.58438569  0.05326933]\n",
      " [ 1.74493118  0.67628604]\n",
      " [ 0.6355797   0.63347726]\n",
      " [ 2.19217738  1.2425902 ]\n",
      " [ 0.51075436  0.11880111]\n",
      " [ 0.93784332 -0.43970053]\n",
      " [ 0.8787214   0.12126884]]\n",
      "y : [ 1.  1.  1.  1.  1.  1.  1.  1.  1.  1. -1. -1. -1. -1. -1. -1. -1. -1.\n",
      " -1. -1.]\n",
      "Xbar : [[ 1.         -0.77903943  0.19579728]\n",
      " [ 1.         -0.29867766  1.43487375]\n",
      " [ 1.          0.08493823  0.70849736]\n",
      " [ 1.         -0.97298583 -0.52989559]\n",
      " [ 1.         -0.26776361  0.32571583]\n",
      " [ 1.         -1.78828032  0.23682627]\n",
      " [ 1.         -0.77079397 -0.27074543]\n",
      " [ 1.         -1.1362238  -0.40283452]\n",
      " [ 1.         -1.25317301  0.27230351]\n",
      " [ 1.         -0.62808263  0.37595358]\n",
      " [ 1.          1.47403369  0.4040742 ]\n",
      " [ 1.          1.09281249 -0.34938294]\n",
      " [ 1.          1.22222334  0.11659863]\n",
      " [ 1.          1.58438569  0.05326933]\n",
      " [ 1.          1.74493118  0.67628604]\n",
      " [ 1.          0.6355797   0.63347726]\n",
      " [ 1.          2.19217738  1.2425902 ]\n",
      " [ 1.          0.51075436  0.11880111]\n",
      " [ 1.          0.93784332 -0.43970053]\n",
      " [ 1.          0.8787214   0.12126884]]\n"
     ]
    }
   ],
   "source": [
    "means = [[-1, 0], [1, 0]]\n",
    "cov = [[.3, .2], [.2, .3]]\n",
    "N = 10\n",
    "X0 = np.random.multivariate_normal(means[0], cov, N)\n",
    "print(X0)\n",
    "X1 = np.random.multivariate_normal(means[1], cov, N)\n",
    "\n",
    "X = np.concatenate((X0, X1), axis = 0)\n",
    "print('X :',X)\n",
    "y = np.concatenate((np.ones(N), -1*np.ones(N)))\n",
    "print('y :',y)\n",
    "\n",
    "Xbar = np.concatenate((np.ones((2*N, 1)), X), axis = 1)\n",
    "print('Xbar :',Xbar)\n"
   ]
  },
  {
   "cell_type": "code",
   "execution_count": 63,
   "metadata": {},
   "outputs": [
    {
     "data": {
      "image/png": "[encoded data removed]",
      "text/plain": [
       "<Figure size 432x288 with 1 Axes>"
      ]
     },
     "metadata": {
      "needs_background": "light"
     },
     "output_type": "display_data"
    },
    {
     "data": {
      "image/png": "[encoded data removed]",
      "text/plain": [
       "<Figure size 432x288 with 1 Axes>"
      ]
     },
     "metadata": {
      "needs_background": "light"
     },
     "output_type": "display_data"
    }
   ],
   "source": [
    "plt.plot(X0[:,0],X0[:,1],'rs')\n",
    "plt.plot(X1[:,0],X1[:,1],'bs')\n",
    "plt.axis([-5, 5, -5, 5])\n",
    "plt.show()\n",
    "\n",
    "plt.plot(Xbar[:,1], Xbar[:,2],'gs')\n",
    "plt.axis([-5, 5, -5, 5])\n",
    "plt.show()"
   ]
  },
  {
   "cell_type": "code",
   "execution_count": 64,
   "metadata": {},
   "outputs": [
    {
     "name": "stdout",
     "output_type": "stream",
     "text": [
      "w : [ 0.57681305 -2.52654515  1.61348129]\n",
      "[ 2.86100659  3.64657758  1.50536002  2.18012906  1.77886629  5.47709877\n",
      "  2.08741613  2.79756782  4.18236786  2.77028625 -2.49543346 -2.74794989\n",
      " -2.32305969 -3.34025986 -2.74065949 -0.00690404 -2.95692603 -0.52194753\n",
      " -2.50213901 -1.44765123]\n"
     ]
    }
   ],
   "source": [
    "def predict(w, X):  \n",
    "    '''\n",
    "    predict label of each row of X, given w \n",
    "    X: a 2-d numpy array of shape (N, d), each row is a datapoint \n",
    "    w_init: a 1-d numpy array of shape (d)\n",
    "    '''\n",
    "\n",
    "    return np.sign(X.dot(w))\n",
    "\n",
    "def perceptron(X, y, w_init):\n",
    "    '''\n",
    "    perform perceptron learning algorithm\n",
    "    X: a 2-d numpy array of shape (N, d), each row is a datapoint \n",
    "    y: a 1-d numpy array of shape (N), label of each row of X. y[i] = 1/-1\n",
    "    w_init: a 1-d numpy array of shape (d)\n",
    "    \n",
    "    '''\n",
    "    w = w_init\n",
    "    while True:\n",
    "        pred = predict(w, X)\n",
    "        # find indexes of misclassified points\n",
    "        mis_idxs = np.where(np.equal(pred, y) == False)[0]\n",
    "        # number of misclassified points\n",
    "        num_mis = mis_idxs.shape[0]\n",
    "        if num_mis == 0:\n",
    "            return w\n",
    "        # random pick one misclassified point \n",
    "        random_id = np.random.choice(mis_idxs, 1)[0]\n",
    "        # update w \n",
    "        w = w + y[random_id]*X[random_id]\n",
    "\n",
    "np.random.seed(73)\n",
    "# Xbar \n",
    "\n",
    "w_init = np.random.randn(Xbar.shape[1])\n",
    "w = perceptron(Xbar, y, w_init)\n",
    "\n",
    "print('w :',w)\n",
    "print(Xbar.dot(w))"
   ]
  },
  {
   "cell_type": "code",
   "execution_count": 70,
   "metadata": {},
   "outputs": [
    {
     "data": {
      "image/png": "[encoded data removed]",
      "text/plain": [
       "<Figure size 432x288 with 1 Axes>"
      ]
     },
     "metadata": {
      "needs_background": "light"
     },
     "output_type": "display_data"
    }
   ],
   "source": [
    "a = -(w[0]+w[1]*Xbar[:,1])/w[2]\n",
    "plt.plot(Xbar[:,1], Xbar[:,2],'gx')\n",
    "plt.plot(Xbar[:,1],a,'-b')\n",
    "plt.axis([-5, 5, -5, 5])\n",
    "plt.show()\n"
   ]
  },
  {
   "cell_type": "code",
   "execution_count": null,
   "metadata": {},
   "outputs": [],
   "source": []
  },
  {
   "cell_type": "code",
   "execution_count": null,
   "metadata": {},
   "outputs": [],
   "source": []
  }
 ],
 "metadata": {
  "kernelspec": {
   "display_name": "Python 3",
   "language": "python",
   "name": "python3"
  },
  "language_info": {
   "codemirror_mode": {
    "name": "ipython",
    "version": 3
   },
   "file_extension": ".py",
   "mimetype": "text/x-python",
   "name": "python",
   "nbconvert_exporter": "python",
   "pygments_lexer": "ipython3",
   "version": "3.7.9"
  }
 },
 "nbformat": 4,
 "nbformat_minor": 4
}
