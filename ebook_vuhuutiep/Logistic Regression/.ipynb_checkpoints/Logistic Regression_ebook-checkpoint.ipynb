{
 "cells": [
  {
   "cell_type": "code",
   "execution_count": 6,
   "metadata": {},
   "outputs": [],
   "source": [
    "import numpy as np"
   ]
  },
  {
   "cell_type": "code",
   "execution_count": 7,
   "metadata": {},
   "outputs": [],
   "source": [
    "def sigmoid(S):\n",
    "    \"\"\"\n",
    "    S: an numpy array\n",
    "    return sigmoid function of each element of S\n",
    "    \"\"\"\n",
    "    return 1/(1 + np.exp(-S))"
   ]
  },
  {
   "cell_type": "code",
   "execution_count": 8,
   "metadata": {},
   "outputs": [],
   "source": [
    "def prob(w, X):\n",
    "    \"\"\"\n",
    "    X: a 2d numpy array of shape (N, d). N datatpoint, each with size d\n",
    "    w: a 1d numpy array of shape (d)\n",
    "    \"\"\"\n",
    "    return sigmoid(X.dot(w))\n",
    "def loss(w, X, y, lam):\n",
    "    \"\"\"\n",
    "    X, w as in prob\n",
    "    y: a 1d numpy array of shape (N). Each elem = 0 or 1\n",
    "    \"\"\"\n",
    "    a = prob(w, X)\n",
    "    loss_0 = -np.mean(y*np.log(a) + (1-y)*np.log(1-a))\n",
    "    weight_decay = 0.5*lam/X.shape[0]*np.sum(w*w)\n",
    "    return loss_0 + weight_decay"
   ]
  },
  {
   "cell_type": "code",
   "execution_count": 9,
   "metadata": {},
   "outputs": [],
   "source": [
    "def logistic_regression(w_init, X, y, lam, lr = 0.1, nepoches = 2000):\n",
    "    # lam: regulariza paramether, lr: learning rate, nepoches: # epoches\n",
    "    N, d = X.shape[0], X.shape[1]\n",
    "    w = w_old = w_init\n",
    "    # store history of loss in loss_hist\n",
    "    loss_hist = [loss(w_init, X, y, lam)]\n",
    "    ep = 0\n",
    "    while ep < nepoches:\n",
    "        ep += 1\n",
    "        mix_ids = np.random.permutation(N) # stochastic\n",
    "        for i in mix_ids:\n",
    "            xi = X[i]\n",
    "            yi = y[i]\n",
    "            ai = sigmoid(xi.dot(w))\n",
    "            # update\n",
    "            w = w - lr*((ai - yi)*xi + lam*w)\n",
    "            loss_hist.append(loss(w, X, y, lam))\n",
    "        if np.linalg.norm(w - w_old)/d < 1e-6:\n",
    "            break\n",
    "        w_old = w\n",
    "    return w, loss_hist"
   ]
  },
  {
   "cell_type": "code",
   "execution_count": 23,
   "metadata": {},
   "outputs": [
    {
     "name": "stdout",
     "output_type": "stream",
     "text": [
      "X shape: (20, 1)\n",
      "y shape: (20,)\n",
      "[[1.   0.5 ]\n",
      " [1.   0.75]\n",
      " [1.   1.  ]\n",
      " [1.   1.25]\n",
      " [1.   1.5 ]\n",
      " [1.   1.75]\n",
      " [1.   1.75]\n",
      " [1.   2.  ]\n",
      " [1.   2.25]\n",
      " [1.   2.5 ]\n",
      " [1.   2.75]\n",
      " [1.   3.  ]\n",
      " [1.   3.25]\n",
      " [1.   3.5 ]\n",
      " [1.   4.  ]\n",
      " [1.   4.25]\n",
      " [1.   4.5 ]\n",
      " [1.   4.75]\n",
      " [1.   5.  ]\n",
      " [1.   5.5 ]]\n",
      "[1.   0.75]\n",
      "Solution of Logistic Regression: [-4.06492216  1.54338881]\n",
      "Final loss: 0.402446714282706\n"
     ]
    }
   ],
   "source": [
    "np.random.seed(2)\n",
    "X = np.array([[0.50, 0.75, 1.00, 1.25, 1.50, 1.75, 1.75, 2.00, 2.25, 2.50, 2.75, 3.00, 3.25, 3.50, 4.00, 4.25, 4.50, 4.75, 5.00, 5.50]]).T\n",
    "print('X shape:',X.shape)\n",
    "\n",
    "y = np.array([0, 0, 0, 0, 0, 0, 1, 0, 1, 0, 1, 0, 1, 0, 1, 1, 1, 1, 1, 1])\n",
    "print('y shape:',y.shape)\n",
    "# bias trick\n",
    "\n",
    "# Xbar = np.concatenate((X, np.ones((X.shape[0], 1))), axis = 1)\n",
    "Xbar = np.concatenate((np.ones((X.shape[0], 1)), X), axis = 1)\n",
    "print(Xbar)\n",
    "print(Xbar[1])\n",
    "w_init = np.random.randn(Xbar.shape[1])\n",
    "lam = 0.0001\n",
    "w, loss_hist = logistic_regression(w_init, Xbar, y, lam, lr = 0.05, nepoches = 500)\n",
    "print('Solution of Logistic Regression:', w)\n",
    "print('Final loss:', loss(w, Xbar, y, lam))"
   ]
  },
  {
   "cell_type": "code",
   "execution_count": 2,
   "metadata": {},
   "outputs": [],
   "source": [
    "def predict(w, X, threshold = 0.5):\n",
    "    \"\"\"\n",
    "    predict output for each row of X\n",
    "    X: a numpy array of shape (N, d), threshold: 0 < threshold < 1\n",
    "    return a 1d numpy array, each element is 0 or 1\n",
    "    \"\"\"\n",
    "    res = np.zeros(X.shape[0])\n",
    "    res[np.where(prob(w, X) > threshold)[0]] = 1\n",
    "    return res"
   ]
  },
  {
   "cell_type": "code",
   "execution_count": null,
   "metadata": {},
   "outputs": [],
   "source": []
  }
 ],
 "metadata": {
  "kernelspec": {
   "display_name": "Python 3",
   "language": "python",
   "name": "python3"
  },
  "language_info": {
   "codemirror_mode": {
    "name": "ipython",
    "version": 3
   },
   "file_extension": ".py",
   "mimetype": "text/x-python",
   "name": "python",
   "nbconvert_exporter": "python",
   "pygments_lexer": "ipython3",
   "version": "3.7.9"
  }
 },
 "nbformat": 4,
 "nbformat_minor": 4
}
